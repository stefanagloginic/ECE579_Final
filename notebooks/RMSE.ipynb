{
 "cells": [
  {
   "cell_type": "markdown",
   "metadata": {},
   "source": [
    "# Test Batch RMSE Class "
   ]
  },
  {
   "cell_type": "code",
   "execution_count": 7,
   "metadata": {},
   "outputs": [
    {
     "name": "stdout",
     "output_type": "stream",
     "text": [
      "The RMSE across all predicted images is 2.6983791431153628\n",
      "The RMSE for keypoint at 0 across all images is 2.968585521759479\n",
      "The RMSE for keypoint at 0 across all images is 2.3979157616563596\n"
     ]
    }
   ],
   "source": [
    "import sys;sys.path.insert(0, '..')\n",
    "from src.RMSE import BatchRMSE\n",
    "\n",
    "\n",
    "newRMSE = BatchRMSE(num_keypoints=2)\n",
    "\n",
    "\n",
    "newRMSE.add_pred_error(\n",
    "    [[1, 2], [3, 4]], \n",
    "    [[3, 4], [0, 1]]\n",
    ")\n",
    "\n",
    "newRMSE.add_pred_error(\n",
    "    [[-1, -3], [-4, -2]], \n",
    "    [[0.5, 2], [-2, -1]]\n",
    ")\n",
    "\n",
    "print(f\"The RMSE across all predicted images is {newRMSE.get_all_keypoints_RMSE()}\")\n",
    "print(f\"The RMSE for keypoint at {0} across all images is {newRMSE.get_keypoint_RMSE(0)}\")\n",
    "print(f\"The RMSE for keypoint at {0} across all images is {newRMSE.get_keypoint_RMSE(1)}\")\n"
   ]
  },
  {
   "cell_type": "markdown",
   "metadata": {},
   "source": [
    "# Should throw Error when no values have been batched"
   ]
  },
  {
   "cell_type": "code",
   "execution_count": 8,
   "metadata": {},
   "outputs": [
    {
     "ename": "Exception",
     "evalue": "No errors have been batched so RMSE is undefined",
     "output_type": "error",
     "traceback": [
      "\u001b[0;31m---------------------------------------------------------------------------\u001b[0m",
      "\u001b[0;31mException\u001b[0m                                 Traceback (most recent call last)",
      "Cell \u001b[0;32mIn[8], line 3\u001b[0m\n\u001b[1;32m      1\u001b[0m anotherRMSE \u001b[38;5;241m=\u001b[39m BatchRMSE(num_keypoints\u001b[38;5;241m=\u001b[39m\u001b[38;5;241m2\u001b[39m)\n\u001b[0;32m----> 3\u001b[0m anotherRMSE\u001b[38;5;241m.\u001b[39mget_all_keypoints_RMSE()\n",
      "File \u001b[0;32m~/dev/ECE579/notebooks/../src/RMSE.py:39\u001b[0m, in \u001b[0;36mBatchRMSE.get_all_keypoints_RMSE\u001b[0;34m(self)\u001b[0m\n\u001b[1;32m     37\u001b[0m \u001b[38;5;28;01mdef\u001b[39;00m \u001b[38;5;21mget_all_keypoints_RMSE\u001b[39m(\u001b[38;5;28mself\u001b[39m):\n\u001b[1;32m     38\u001b[0m     \u001b[38;5;28;01mif\u001b[39;00m (\u001b[38;5;28mself\u001b[39m\u001b[38;5;241m.\u001b[39m_squared_error_N \u001b[38;5;241m==\u001b[39m \u001b[38;5;241m0\u001b[39m):\n\u001b[0;32m---> 39\u001b[0m         \u001b[38;5;28;01mraise\u001b[39;00m \u001b[38;5;167;01mException\u001b[39;00m(\u001b[38;5;124m\"\u001b[39m\u001b[38;5;124mNo errors have been batched so RMSE is undefined\u001b[39m\u001b[38;5;124m\"\u001b[39m)\n\u001b[1;32m     41\u001b[0m     \u001b[38;5;28;01mreturn\u001b[39;00m RMSE(\u001b[38;5;28mself\u001b[39m\u001b[38;5;241m.\u001b[39m_squared_error_sum_all_keypoints, \u001b[38;5;28mself\u001b[39m\u001b[38;5;241m.\u001b[39m_squared_error_N)\n",
      "\u001b[0;31mException\u001b[0m: No errors have been batched so RMSE is undefined"
     ]
    }
   ],
   "source": [
    "anotherRMSE = BatchRMSE(num_keypoints=2)\n",
    "\n",
    "anotherRMSE.get_all_keypoints_RMSE()"
   ]
  },
  {
   "cell_type": "markdown",
   "metadata": {},
   "source": [
    "# should throw error for each index if no values have been batched"
   ]
  },
  {
   "cell_type": "code",
   "execution_count": 9,
   "metadata": {},
   "outputs": [
    {
     "ename": "Exception",
     "evalue": "No errors have been batched so RMSE is undefined for 0",
     "output_type": "error",
     "traceback": [
      "\u001b[0;31m---------------------------------------------------------------------------\u001b[0m",
      "\u001b[0;31mException\u001b[0m                                 Traceback (most recent call last)",
      "Cell \u001b[0;32mIn[9], line 1\u001b[0m\n\u001b[0;32m----> 1\u001b[0m anotherRMSE\u001b[38;5;241m.\u001b[39mget_keypoint_RMSE(\u001b[38;5;241m0\u001b[39m)\n",
      "File \u001b[0;32m~/dev/ECE579/notebooks/../src/RMSE.py:48\u001b[0m, in \u001b[0;36mBatchRMSE.get_keypoint_RMSE\u001b[0;34m(self, index)\u001b[0m\n\u001b[1;32m     45\u001b[0m     \u001b[38;5;28;01mraise\u001b[39;00m \u001b[38;5;167;01mException\u001b[39;00m(\u001b[38;5;124mf\u001b[39m\u001b[38;5;124m\"\u001b[39m\u001b[38;5;124mBad Index passed in \u001b[39m\u001b[38;5;132;01m{\u001b[39;00mindex\u001b[38;5;132;01m}\u001b[39;00m\u001b[38;5;124m\"\u001b[39m)\n\u001b[1;32m     47\u001b[0m \u001b[38;5;28;01mif\u001b[39;00m (\u001b[38;5;28mself\u001b[39m\u001b[38;5;241m.\u001b[39m_squared_error_sum_each_keypoint_N[index] \u001b[38;5;241m==\u001b[39m \u001b[38;5;241m0\u001b[39m):\n\u001b[0;32m---> 48\u001b[0m     \u001b[38;5;28;01mraise\u001b[39;00m \u001b[38;5;167;01mException\u001b[39;00m(\u001b[38;5;124mf\u001b[39m\u001b[38;5;124m\"\u001b[39m\u001b[38;5;124mNo errors have been batched so RMSE is undefined for \u001b[39m\u001b[38;5;132;01m{\u001b[39;00mindex\u001b[38;5;132;01m}\u001b[39;00m\u001b[38;5;124m\"\u001b[39m)\n\u001b[1;32m     50\u001b[0m \u001b[38;5;28;01mreturn\u001b[39;00m RMSE(\u001b[38;5;28mself\u001b[39m\u001b[38;5;241m.\u001b[39m_squared_error_sum_each_keypoint[index], \u001b[38;5;28mself\u001b[39m\u001b[38;5;241m.\u001b[39m_squared_error_sum_each_keypoint_N[index])\n",
      "\u001b[0;31mException\u001b[0m: No errors have been batched so RMSE is undefined for 0"
     ]
    }
   ],
   "source": [
    "\n",
    "\n",
    "anotherRMSE.get_keypoint_RMSE(0)"
   ]
  },
  {
   "cell_type": "markdown",
   "metadata": {},
   "source": [
    "# should throw error when index is out of bounds"
   ]
  },
  {
   "cell_type": "code",
   "execution_count": 10,
   "metadata": {},
   "outputs": [
    {
     "ename": "Exception",
     "evalue": "Bad Index passed in 2",
     "output_type": "error",
     "traceback": [
      "\u001b[0;31m---------------------------------------------------------------------------\u001b[0m",
      "\u001b[0;31mException\u001b[0m                                 Traceback (most recent call last)",
      "Cell \u001b[0;32mIn[10], line 1\u001b[0m\n\u001b[0;32m----> 1\u001b[0m newRMSE\u001b[38;5;241m.\u001b[39mget_keypoint_RMSE(\u001b[38;5;241m2\u001b[39m)\n",
      "File \u001b[0;32m~/dev/ECE579/notebooks/../src/RMSE.py:45\u001b[0m, in \u001b[0;36mBatchRMSE.get_keypoint_RMSE\u001b[0;34m(self, index)\u001b[0m\n\u001b[1;32m     43\u001b[0m \u001b[38;5;28;01mdef\u001b[39;00m \u001b[38;5;21mget_keypoint_RMSE\u001b[39m(\u001b[38;5;28mself\u001b[39m, index):\n\u001b[1;32m     44\u001b[0m     \u001b[38;5;28;01mif\u001b[39;00m (index \u001b[38;5;241m<\u001b[39m \u001b[38;5;241m0\u001b[39m \u001b[38;5;129;01mor\u001b[39;00m index \u001b[38;5;241m>\u001b[39m\u001b[38;5;241m=\u001b[39m \u001b[38;5;28mself\u001b[39m\u001b[38;5;241m.\u001b[39m_num_keypoints):\n\u001b[0;32m---> 45\u001b[0m         \u001b[38;5;28;01mraise\u001b[39;00m \u001b[38;5;167;01mException\u001b[39;00m(\u001b[38;5;124mf\u001b[39m\u001b[38;5;124m\"\u001b[39m\u001b[38;5;124mBad Index passed in \u001b[39m\u001b[38;5;132;01m{\u001b[39;00mindex\u001b[38;5;132;01m}\u001b[39;00m\u001b[38;5;124m\"\u001b[39m)\n\u001b[1;32m     47\u001b[0m     \u001b[38;5;28;01mif\u001b[39;00m (\u001b[38;5;28mself\u001b[39m\u001b[38;5;241m.\u001b[39m_squared_error_sum_each_keypoint_N[index] \u001b[38;5;241m==\u001b[39m \u001b[38;5;241m0\u001b[39m):\n\u001b[1;32m     48\u001b[0m         \u001b[38;5;28;01mraise\u001b[39;00m \u001b[38;5;167;01mException\u001b[39;00m(\u001b[38;5;124mf\u001b[39m\u001b[38;5;124m\"\u001b[39m\u001b[38;5;124mNo errors have been batched so RMSE is undefined for \u001b[39m\u001b[38;5;132;01m{\u001b[39;00mindex\u001b[38;5;132;01m}\u001b[39;00m\u001b[38;5;124m\"\u001b[39m)\n",
      "\u001b[0;31mException\u001b[0m: Bad Index passed in 2"
     ]
    }
   ],
   "source": [
    "newRMSE.get_keypoint_RMSE(2)"
   ]
  },
  {
   "cell_type": "code",
   "execution_count": 11,
   "metadata": {},
   "outputs": [
    {
     "ename": "Exception",
     "evalue": "Bad Index passed in -1",
     "output_type": "error",
     "traceback": [
      "\u001b[0;31m---------------------------------------------------------------------------\u001b[0m",
      "\u001b[0;31mException\u001b[0m                                 Traceback (most recent call last)",
      "Cell \u001b[0;32mIn[11], line 1\u001b[0m\n\u001b[0;32m----> 1\u001b[0m newRMSE\u001b[38;5;241m.\u001b[39mget_keypoint_RMSE(\u001b[38;5;241m-\u001b[39m\u001b[38;5;241m1\u001b[39m)\n",
      "File \u001b[0;32m~/dev/ECE579/notebooks/../src/RMSE.py:45\u001b[0m, in \u001b[0;36mBatchRMSE.get_keypoint_RMSE\u001b[0;34m(self, index)\u001b[0m\n\u001b[1;32m     43\u001b[0m \u001b[38;5;28;01mdef\u001b[39;00m \u001b[38;5;21mget_keypoint_RMSE\u001b[39m(\u001b[38;5;28mself\u001b[39m, index):\n\u001b[1;32m     44\u001b[0m     \u001b[38;5;28;01mif\u001b[39;00m (index \u001b[38;5;241m<\u001b[39m \u001b[38;5;241m0\u001b[39m \u001b[38;5;129;01mor\u001b[39;00m index \u001b[38;5;241m>\u001b[39m\u001b[38;5;241m=\u001b[39m \u001b[38;5;28mself\u001b[39m\u001b[38;5;241m.\u001b[39m_num_keypoints):\n\u001b[0;32m---> 45\u001b[0m         \u001b[38;5;28;01mraise\u001b[39;00m \u001b[38;5;167;01mException\u001b[39;00m(\u001b[38;5;124mf\u001b[39m\u001b[38;5;124m\"\u001b[39m\u001b[38;5;124mBad Index passed in \u001b[39m\u001b[38;5;132;01m{\u001b[39;00mindex\u001b[38;5;132;01m}\u001b[39;00m\u001b[38;5;124m\"\u001b[39m)\n\u001b[1;32m     47\u001b[0m     \u001b[38;5;28;01mif\u001b[39;00m (\u001b[38;5;28mself\u001b[39m\u001b[38;5;241m.\u001b[39m_squared_error_sum_each_keypoint_N[index] \u001b[38;5;241m==\u001b[39m \u001b[38;5;241m0\u001b[39m):\n\u001b[1;32m     48\u001b[0m         \u001b[38;5;28;01mraise\u001b[39;00m \u001b[38;5;167;01mException\u001b[39;00m(\u001b[38;5;124mf\u001b[39m\u001b[38;5;124m\"\u001b[39m\u001b[38;5;124mNo errors have been batched so RMSE is undefined for \u001b[39m\u001b[38;5;132;01m{\u001b[39;00mindex\u001b[38;5;132;01m}\u001b[39;00m\u001b[38;5;124m\"\u001b[39m)\n",
      "\u001b[0;31mException\u001b[0m: Bad Index passed in -1"
     ]
    }
   ],
   "source": [
    "newRMSE.get_keypoint_RMSE(-1)"
   ]
  }
 ],
 "metadata": {
  "kernelspec": {
   "display_name": "ece_579_project",
   "language": "python",
   "name": "python3"
  },
  "language_info": {
   "codemirror_mode": {
    "name": "ipython",
    "version": 3
   },
   "file_extension": ".py",
   "mimetype": "text/x-python",
   "name": "python",
   "nbconvert_exporter": "python",
   "pygments_lexer": "ipython3",
   "version": "3.11.0"
  }
 },
 "nbformat": 4,
 "nbformat_minor": 2
}
