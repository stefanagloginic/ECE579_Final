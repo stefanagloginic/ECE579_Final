{
 "cells": [
  {
   "cell_type": "code",
   "execution_count": 4,
   "metadata": {},
   "outputs": [],
   "source": [
    "import sys;sys.path.insert(0, '..')\n",
    "import torch\n",
    "import torch.nn as nn\n",
    "import os\n",
    "from src.FCN8 import FCN8\n",
    "import src.core as core\n",
    "\n",
    "\n",
    "for i, data in enumerate(core.TrainDataLoader):\n",
    "        # Every data instance is an input + label pair\n",
    "        inputs, labels = data\n",
    "\n",
    "        if (torch.isnan(inputs).any() or torch.isinf(inputs).any()):\n",
    "                print('input is nan or inf')\n",
    "\n",
    "        if (torch.isnan(labels).any() or torch.isinf(labels).any()):\n",
    "                print('labels is nan or inf')"
   ]
  },
  {
   "cell_type": "code",
   "execution_count": 5,
   "metadata": {},
   "outputs": [],
   "source": [
    "for i, data in enumerate(core.ValidationDataLoader):\n",
    "        # Every data instance is an input + label pair\n",
    "        inputs, labels = data\n",
    "\n",
    "        if (torch.isnan(inputs).any() or torch.isinf(inputs).any()):\n",
    "                print('input is nan or inf')\n",
    "\n",
    "        if (torch.isnan(labels).any() or torch.isinf(labels).any()):\n",
    "                print('labels is nan or inf')"
   ]
  },
  {
   "cell_type": "code",
   "execution_count": 8,
   "metadata": {},
   "outputs": [],
   "source": [
    "for i, data in enumerate(core.TestDataLoader):\n",
    "        # Every data instance is an input + label pair\n",
    "        inputs, labels = data\n",
    "\n",
    "        if (torch.isnan(inputs).any() or torch.isinf(inputs).any()):\n",
    "                print('input is nan or inf')\n",
    "\n",
    "        if (torch.isnan(labels).any() or torch.isinf(labels).any()):\n",
    "                print('labels is nan or inf')"
   ]
  }
 ],
 "metadata": {
  "kernelspec": {
   "display_name": "ece_579_project",
   "language": "python",
   "name": "python3"
  },
  "language_info": {
   "codemirror_mode": {
    "name": "ipython",
    "version": 3
   },
   "file_extension": ".py",
   "mimetype": "text/x-python",
   "name": "python",
   "nbconvert_exporter": "python",
   "pygments_lexer": "ipython3",
   "version": "3.11.0"
  }
 },
 "nbformat": 4,
 "nbformat_minor": 2
}
