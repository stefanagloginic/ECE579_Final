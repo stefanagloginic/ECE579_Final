{
 "cells": [
  {
   "cell_type": "markdown",
   "metadata": {},
   "source": [
    "# Train FCN8 Model"
   ]
  },
  {
   "cell_type": "code",
   "execution_count": null,
   "metadata": {},
   "outputs": [],
   "source": [
    "import sys;sys.path.insert(0, '..')\n",
    "import os\n",
    "import torch\n",
    "from torchsummary import summary\n",
    "from src.FCN8 import FCN8\n",
    "import src.core as core"
   ]
  },
  {
   "cell_type": "markdown",
   "metadata": {},
   "source": [
    "# Initialize Model"
   ]
  },
  {
   "cell_type": "code",
   "execution_count": null,
   "metadata": {},
   "outputs": [],
   "source": [
    "torch.autograd.set_detect_anomaly(True)\n",
    "\n",
    "print(f\"Using Device {core.TorchDevice}\")\n",
    "\n",
    "torch.set_default_device(core.TorchDevice)\n",
    "\n",
    "model = FCN8()\n",
    "\n",
    "print(model)\n",
    "\n",
    "summary(model, (3, core.ImageSize, core.ImageSize))"
   ]
  },
  {
   "cell_type": "markdown",
   "metadata": {},
   "source": [
    "# Train Model"
   ]
  },
  {
   "cell_type": "code",
   "execution_count": null,
   "metadata": {},
   "outputs": [],
   "source": [
    "loss_fn = core.get_loss_fn()\n",
    "optimizer = core.get_optimizer(model)\n",
    "EPOCHS = 60\n",
    "cwd = os.getcwd()\n",
    "FCN8_model_dir = os.path.join(cwd, '../models', 'FNC8_FINAL')\n",
    "\n",
    "run_dir = os.path.join(FCN8_model_dir, 'run')\n",
    "model_dir = os.path.join(FCN8_model_dir, 'model')\n",
    "\n",
    "core.train_model(model, optimizer=optimizer, loss_fn=loss_fn, epochs=EPOCHS, run_dir=run_dir, model_dir=model_dir)\n"
   ]
  }
 ],
 "metadata": {
  "kernelspec": {
   "display_name": "ece_579_project",
   "language": "python",
   "name": "python3"
  },
  "language_info": {
   "codemirror_mode": {
    "name": "ipython",
    "version": 3
   },
   "file_extension": ".py",
   "mimetype": "text/x-python",
   "name": "python",
   "nbconvert_exporter": "python",
   "pygments_lexer": "ipython3",
   "version": "3.12.2"
  }
 },
 "nbformat": 4,
 "nbformat_minor": 2
}
