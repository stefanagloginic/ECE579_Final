{
 "cells": [
  {
   "cell_type": "code",
   "execution_count": 1,
   "metadata": {},
   "outputs": [
    {
     "name": "stdout",
     "output_type": "stream",
     "text": [
      "Using cpu device\n",
      "All Keypoints RMSE 20.284266007201612\n"
     ]
    }
   ],
   "source": [
    "import sys;sys.path.insert(0, '..')\n",
    "from src.RMSE import BatchRMSE\n",
    "import torch\n",
    "import os\n",
    "from src.FCN8 import FCN8\n",
    "import src.core as core\n",
    "import src.guassian as guassian\n",
    "\n",
    "\n",
    "cwd = os.getcwd()\n",
    "FCN8_model_dir = os.path.join(cwd, '..', 'models', 'FNC8_FINAL')\n",
    "\n",
    "run_dir = os.path.join(FCN8_model_dir, 'run')\n",
    "model_dir = os.path.join(FCN8_model_dir, 'model')\n",
    "\n",
    "\n",
    "print(f\"Using {core.TorchDevice} device\")\n",
    "torch.set_default_device(core.TorchDevice)\n",
    "\n",
    "loaded_model = FCN8()\n",
    "saved_model_path = model_path = os.path.join(model_dir, f'model_20240405_093356_53')\n",
    "checkpoint = torch.load(saved_model_path, map_location=core.TorchDevice)\n",
    "loaded_model.load_state_dict(checkpoint)\n",
    "loaded_model.eval()\n",
    "\n",
    "rmse = BatchRMSE()\n",
    "\n",
    "predicted_heatmaps = None\n",
    "single_sample = None\n",
    "for i, sample in enumerate(core.TestDataSet):\n",
    "    single_sample = sample\n",
    "    image, heatmaps = sample\n",
    "    image, heatmaps = image.to(core.TorchDevice), heatmaps.to(core.TorchDevice)\n",
    "\n",
    "    ## We need to unsqueeze add the batch dimension to the image [1, 3, 96, 96]\n",
    "    image = image.unsqueeze(0)\n",
    "    # print(\"image.shape\", image.shape)\n",
    "\n",
    "    predicted_heatmaps = loaded_model(image)\n",
    "\n",
    "    pred_heatmaps = predicted_heatmaps.cpu().detach()\n",
    "\n",
    "    ## We need to remove the extra batch dimensions from the prediction [24, 96, 96]\n",
    "    pred_heatmaps = pred_heatmaps.squeeze(0)\n",
    "\n",
    "    # print(\"pred_heatmaps.shape\", pred_heatmaps.shape)\n",
    "\n",
    "    predicted_keypoints = guassian.heatmaps_to_keypoints_CoM(pred_heatmaps)\n",
    "\n",
    "    ground_heatmaps = heatmaps.cpu().detach()\n",
    "\n",
    "    gt_keypoints = guassian.heatmaps_to_keypoints_CoM(ground_heatmaps)\n",
    "\n",
    "    rmse.add_pred_error(gt_keypoints, predicted_keypoints)\n",
    "\n",
    "\n",
    "print(f\"All Keypoints RMSE {rmse.get_all_keypoints_RMSE()}\")\n",
    "\n"
   ]
  },
  {
   "cell_type": "code",
   "execution_count": 2,
   "metadata": {},
   "outputs": [
    {
     "name": "stdout",
     "output_type": "stream",
     "text": [
      "All Keypoints RMSE 23.36833946180064\n",
      "All Keypoints RMSE 15.923941462605356\n",
      "All Keypoints RMSE 14.541236288274119\n",
      "All Keypoints RMSE 22.945440962898957\n",
      "All Keypoints RMSE 21.569404576006672\n",
      "All Keypoints RMSE 13.805777753809238\n",
      "All Keypoints RMSE 40.3413951657741\n",
      "All Keypoints RMSE 16.67928997819412\n",
      "All Keypoints RMSE 14.119822248660576\n",
      "All Keypoints RMSE 32.740275595929454\n",
      "All Keypoints RMSE 18.105965522249694\n",
      "All Keypoints RMSE 13.55759762127128\n",
      "All Keypoints RMSE 15.190646515529064\n",
      "All Keypoints RMSE 25.2806438656357\n",
      "All Keypoints RMSE 13.914861924784365\n",
      "All Keypoints RMSE 17.248747963772693\n",
      "All Keypoints RMSE 11.952289101945565\n",
      "All Keypoints RMSE 10.19911183125801\n",
      "All Keypoints RMSE 21.17519349566745\n",
      "All Keypoints RMSE 20.85111272029777\n",
      "No RMSE for 20th keypoint\n",
      "No RMSE for 21th keypoint\n",
      "No RMSE for 22th keypoint\n",
      "No RMSE for 23th keypoint\n"
     ]
    }
   ],
   "source": [
    "for i in range(24):\n",
    "    try:\n",
    "        print(f\"All Keypoints RMSE {rmse.get_keypoint_RMSE(i)}\")\n",
    "    except:\n",
    "        print(f\"No RMSE for {i}th keypoint\")"
   ]
  }
 ],
 "metadata": {
  "kernelspec": {
   "display_name": "ece_579_project",
   "language": "python",
   "name": "python3"
  },
  "language_info": {
   "codemirror_mode": {
    "name": "ipython",
    "version": 3
   },
   "file_extension": ".py",
   "mimetype": "text/x-python",
   "name": "python",
   "nbconvert_exporter": "python",
   "pygments_lexer": "ipython3",
   "version": "3.11.0"
  }
 },
 "nbformat": 4,
 "nbformat_minor": 2
}
