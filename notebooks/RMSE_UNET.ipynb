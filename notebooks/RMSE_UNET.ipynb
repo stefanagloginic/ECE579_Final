{
 "cells": [
  {
   "cell_type": "code",
   "execution_count": 1,
   "metadata": {},
   "outputs": [
    {
     "name": "stdout",
     "output_type": "stream",
     "text": [
      "Using cpu device\n",
      "All Keypoints RMSE 1686.55358191271\n"
     ]
    }
   ],
   "source": [
    "import sys;sys.path.insert(0, '..')\n",
    "from src.RMSE import BatchRMSE\n",
    "import torch\n",
    "import os\n",
    "from src.UNET import UNET\n",
    "import src.core as core\n",
    "import src.guassian as guassian\n",
    "\n",
    "\n",
    "cwd = os.getcwd()\n",
    "FCN8_model_dir = os.path.join(cwd, '..', 'models', 'UNET_FINAL_NO_AUG')\n",
    "\n",
    "run_dir = os.path.join(FCN8_model_dir, 'run')\n",
    "model_dir = os.path.join(FCN8_model_dir, 'model')\n",
    "\n",
    "\n",
    "print(f\"Using {core.TorchDevice} device\")\n",
    "torch.set_default_device(core.TorchDevice)\n",
    "\n",
    "loaded_model = UNET()\n",
    "saved_model_path = model_path = os.path.join(model_dir, 'model_20240407_120859_21')\n",
    "checkpoint = torch.load(saved_model_path, map_location=core.TorchDevice)\n",
    "loaded_model.load_state_dict(checkpoint)\n",
    "loaded_model.eval()\n",
    "\n",
    "rmse = BatchRMSE()\n",
    "\n",
    "predicted_heatmaps = None\n",
    "single_sample = None\n",
    "for i, sample in enumerate(core.TestDataSet):\n",
    "    single_sample = sample\n",
    "    image, heatmaps = sample\n",
    "    image, heatmaps = image.to(core.TorchDevice), heatmaps.to(core.TorchDevice)\n",
    "\n",
    "    ## We need to unsqueeze add the batch dimension to the image [1, 3, 96, 96]\n",
    "    image = image.unsqueeze(0)\n",
    "    # print(\"image.shape\", image.shape)\n",
    "\n",
    "    predicted_heatmaps = loaded_model(image)\n",
    "\n",
    "    pred_heatmaps = predicted_heatmaps.cpu().detach()\n",
    "\n",
    "    ## We need to remove the extra batch dimensions from the prediction [24, 96, 96]\n",
    "    pred_heatmaps = pred_heatmaps.squeeze(0)\n",
    "\n",
    "    predicted_keypoints = guassian.heatmaps_to_keypoints_CoM(pred_heatmaps)\n",
    "\n",
    "    ground_heatmaps = heatmaps.cpu().detach()\n",
    "\n",
    "    gt_keypoints = guassian.heatmaps_to_keypoints_CoM(ground_heatmaps)\n",
    "\n",
    "    rmse.add_pred_error(gt_keypoints, predicted_keypoints)\n",
    "\n",
    "\n",
    "print(f\"All Keypoints RMSE {rmse.get_all_keypoints_RMSE()}\")\n",
    "\n"
   ]
  },
  {
   "cell_type": "code",
   "execution_count": 2,
   "metadata": {},
   "outputs": [
    {
     "name": "stdout",
     "output_type": "stream",
     "text": [
      "All Keypoints RMSE 10.215544461236945\n",
      "All Keypoints RMSE 7.559499459365626\n",
      "All Keypoints RMSE 22.88218063261038\n",
      "All Keypoints RMSE 15.494338570159726\n",
      "All Keypoints RMSE 11.142588236798032\n",
      "All Keypoints RMSE 9.239798118519019\n",
      "All Keypoints RMSE 13.048420504686593\n",
      "All Keypoints RMSE 7.548850930006757\n",
      "All Keypoints RMSE 6.968023573197425\n",
      "All Keypoints RMSE 16.593993472292226\n",
      "All Keypoints RMSE 35.01066580033809\n",
      "All Keypoints RMSE 137.27218617702675\n",
      "All Keypoints RMSE 9175.593750282786\n",
      "All Keypoints RMSE 19.769291345100964\n",
      "All Keypoints RMSE 10.278145059259442\n",
      "All Keypoints RMSE 11.822867323839178\n",
      "All Keypoints RMSE 7.665923141078147\n",
      "All Keypoints RMSE 7.813152651893776\n",
      "All Keypoints RMSE 15.319280214170286\n",
      "All Keypoints RMSE 13.140432050853585\n",
      "No RMSE for 20th keypoint\n",
      "No RMSE for 21th keypoint\n",
      "No RMSE for 22th keypoint\n",
      "No RMSE for 23th keypoint\n"
     ]
    }
   ],
   "source": [
    "for i in range(24):\n",
    "    try:\n",
    "        print(f\"All Keypoints RMSE {rmse.get_keypoint_RMSE(i)}\")\n",
    "    except:\n",
    "        print(f\"No RMSE for {i}th keypoint\")"
   ]
  }
 ],
 "metadata": {
  "kernelspec": {
   "display_name": "ece_579_project",
   "language": "python",
   "name": "python3"
  },
  "language_info": {
   "codemirror_mode": {
    "name": "ipython",
    "version": 3
   },
   "file_extension": ".py",
   "mimetype": "text/x-python",
   "name": "python",
   "nbconvert_exporter": "python",
   "pygments_lexer": "ipython3",
   "version": "3.11.0"
  }
 },
 "nbformat": 4,
 "nbformat_minor": 2
}
