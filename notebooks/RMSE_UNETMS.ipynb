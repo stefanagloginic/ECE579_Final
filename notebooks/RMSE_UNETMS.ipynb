{
 "cells": [
  {
   "cell_type": "code",
   "execution_count": 1,
   "metadata": {},
   "outputs": [
    {
     "name": "stdout",
     "output_type": "stream",
     "text": [
      "Using cpu device\n",
      "All Keypoints RMSE 160.98668095669527\n"
     ]
    }
   ],
   "source": [
    "import sys;sys.path.insert(0, '..')\n",
    "from src.RMSE import BatchRMSE\n",
    "import torch\n",
    "import os\n",
    "from src.UNETMS import UNETMS\n",
    "import src.core as core\n",
    "import src.guassian as guassian\n",
    "\n",
    "\n",
    "cwd = os.getcwd()\n",
    "FCN8_model_dir = os.path.join(cwd, '..', 'models', 'UNETMS_FINAL_NO_AUG')\n",
    "\n",
    "run_dir = os.path.join(FCN8_model_dir, 'run')\n",
    "model_dir = os.path.join(FCN8_model_dir, 'model')\n",
    "\n",
    "\n",
    "print(f\"Using {core.TorchDevice} device\")\n",
    "torch.set_default_device(core.TorchDevice)\n",
    "\n",
    "loaded_model = UNETMS()\n",
    "saved_model_path = model_path = os.path.join(model_dir, 'model_20240407_161313_15')\n",
    "checkpoint = torch.load(saved_model_path, map_location=core.TorchDevice)\n",
    "loaded_model.load_state_dict(checkpoint)\n",
    "loaded_model.eval()\n",
    "\n",
    "rmse = BatchRMSE()\n",
    "\n",
    "predicted_heatmaps = None\n",
    "single_sample = None\n",
    "for i, sample in enumerate(core.TestDataSet):\n",
    "    single_sample = sample\n",
    "    image, heatmaps = sample\n",
    "    image, heatmaps = image.to(core.TorchDevice), heatmaps.to(core.TorchDevice)\n",
    "\n",
    "    ## We need to unsqueeze add the batch dimension to the image [1, 3, 96, 96]\n",
    "    image = image.unsqueeze(0)\n",
    "    # print(\"image.shape\", image.shape)\n",
    "\n",
    "    predicted_heatmaps = loaded_model(image)\n",
    "\n",
    "    pred_heatmaps = predicted_heatmaps.cpu().detach()\n",
    "\n",
    "    ## We need to remove the extra batch dimensions from the prediction [24, 96, 96]\n",
    "    pred_heatmaps = pred_heatmaps.squeeze(0)\n",
    "\n",
    "    predicted_keypoints = guassian.heatmaps_to_keypoints_CoM(pred_heatmaps)\n",
    "\n",
    "    ground_heatmaps = heatmaps.cpu().detach()\n",
    "\n",
    "    gt_keypoints = guassian.heatmaps_to_keypoints_CoM(ground_heatmaps)\n",
    "\n",
    "    rmse.add_pred_error(gt_keypoints, predicted_keypoints)\n",
    "\n",
    "\n",
    "print(f\"All Keypoints RMSE {rmse.get_all_keypoints_RMSE()}\")\n",
    "\n"
   ]
  },
  {
   "cell_type": "code",
   "execution_count": 2,
   "metadata": {},
   "outputs": [
    {
     "name": "stdout",
     "output_type": "stream",
     "text": [
      "All Keypoints RMSE 10.357762228136226\n",
      "All Keypoints RMSE 8.159668784978283\n",
      "All Keypoints RMSE 9.540467705527524\n",
      "All Keypoints RMSE 14.292934237973325\n",
      "All Keypoints RMSE 12.573647476429311\n",
      "All Keypoints RMSE 12.13224201113212\n",
      "All Keypoints RMSE 9.964056083825977\n",
      "All Keypoints RMSE 34.62132612872578\n",
      "All Keypoints RMSE 7.310550494508979\n",
      "All Keypoints RMSE 13.891667165010054\n",
      "All Keypoints RMSE 849.0335837940518\n",
      "All Keypoints RMSE 127.73339388608845\n",
      "All Keypoints RMSE 13.757418815084224\n",
      "All Keypoints RMSE 18.7142091849039\n",
      "All Keypoints RMSE 7.910704442541396\n",
      "All Keypoints RMSE 10.484529011655711\n",
      "All Keypoints RMSE 9.353355631837948\n",
      "All Keypoints RMSE 8.5987419608658\n",
      "All Keypoints RMSE 12.071528750314783\n",
      "All Keypoints RMSE 13.659487087738146\n",
      "No RMSE for 20th keypoint\n",
      "No RMSE for 21th keypoint\n",
      "No RMSE for 22th keypoint\n",
      "No RMSE for 23th keypoint\n"
     ]
    }
   ],
   "source": [
    "for i in range(24):\n",
    "    try:\n",
    "        print(f\"All Keypoints RMSE {rmse.get_keypoint_RMSE(i)}\")\n",
    "    except:\n",
    "        print(f\"No RMSE for {i}th keypoint\")"
   ]
  }
 ],
 "metadata": {
  "kernelspec": {
   "display_name": "ece_579_project",
   "language": "python",
   "name": "python3"
  },
  "language_info": {
   "codemirror_mode": {
    "name": "ipython",
    "version": 3
   },
   "file_extension": ".py",
   "mimetype": "text/x-python",
   "name": "python",
   "nbconvert_exporter": "python",
   "pygments_lexer": "ipython3",
   "version": "3.11.0"
  }
 },
 "nbformat": 4,
 "nbformat_minor": 2
}
