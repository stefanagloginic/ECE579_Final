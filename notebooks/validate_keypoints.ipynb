{
 "cells": [
  {
   "cell_type": "code",
   "execution_count": 3,
   "metadata": {},
   "outputs": [
    {
     "data": {
      "application/vnd.jupyter.widget-view+json": {
       "model_id": "c2da9ff3a7ab4107bee49d425f3369e8",
       "version_major": 2,
       "version_minor": 0
      },
      "text/plain": [
       "0it [00:00, ?it/s]"
      ]
     },
     "metadata": {},
     "output_type": "display_data"
    },
    {
     "name": "stdout",
     "output_type": "stream",
     "text": [
      "Number of NA coords coords    0\n",
      "dtype: int64 in train data\n"
     ]
    }
   ],
   "source": [
    "import sys; sys.path.insert(0, '..')\n",
    "import pandas as pd\n",
    "import numpy as np\n",
    "from src.dog_data_set import DogPoseDataSet\n",
    "from tqdm.notebook import tqdm\n",
    "\n",
    "dog_pose_train_data_set_with_heatmaps = DogPoseDataSet(\n",
    "    images_dir = \"../data/Images/\", \n",
    "    np_split_file=\"../data/annotations/train_stanford_StanfordExtra_v12.npy\", \n",
    "    annotations_json_file=\"../data/annotations/StanfordExtra_v12.json\")\n",
    "\n",
    "\n",
    "number_of_na_vals = 0\n",
    "\n",
    "\n",
    "for index, sample in tqdm(enumerate(dog_pose_train_data_set_with_heatmaps)):\n",
    "    joints = sample['joints']\n",
    "\n",
    "    coords = []\n",
    "\n",
    "    for joint in joints:\n",
    "        coords = np.concatenate([coords, joint])\n",
    "\n",
    "    df = pd.DataFrame({\n",
    "        'coords': coords\n",
    "    })\n",
    "\n",
    "    number_of_na_vals = number_of_na_vals + df.isna().sum() \n",
    "\n",
    "\n",
    "print(f\"Number of NA coords {number_of_na_vals} in train data\")\n"
   ]
  },
  {
   "cell_type": "code",
   "execution_count": 4,
   "metadata": {},
   "outputs": [
    {
     "data": {
      "application/vnd.jupyter.widget-view+json": {
       "model_id": "91c58925b6c64bd5a613afd5b1206d6e",
       "version_major": 2,
       "version_minor": 0
      },
      "text/plain": [
       "0it [00:00, ?it/s]"
      ]
     },
     "metadata": {},
     "output_type": "display_data"
    },
    {
     "name": "stdout",
     "output_type": "stream",
     "text": [
      "Number of NA coords coords    0\n",
      "dtype: int64 in test data\n"
     ]
    }
   ],
   "source": [
    "dog_pose_test_data_set_with_heatmaps = DogPoseDataSet(\n",
    "    images_dir = \"../data/Images/\", \n",
    "    np_split_file=\"../data/annotations/test_stanford_StanfordExtra_v12.npy\", \n",
    "    annotations_json_file=\"../data/annotations/StanfordExtra_v12.json\")\n",
    "\n",
    "\n",
    "number_of_na_vals_test = 0\n",
    "\n",
    "\n",
    "for index, sample in tqdm(enumerate(dog_pose_test_data_set_with_heatmaps)):\n",
    "    joints = sample['joints']\n",
    "\n",
    "    coords = []\n",
    "\n",
    "    for joint in joints:\n",
    "        coords = np.concatenate([coords, joint])\n",
    "\n",
    "    df = pd.DataFrame({\n",
    "        'coords': coords\n",
    "    })\n",
    "\n",
    "    number_of_na_vals_test = number_of_na_vals_test + df.isna().sum() \n",
    "\n",
    "\n",
    "print(f\"Number of NA coords {number_of_na_vals_test} in test data\")"
   ]
  },
  {
   "cell_type": "code",
   "execution_count": 5,
   "metadata": {},
   "outputs": [
    {
     "data": {
      "application/vnd.jupyter.widget-view+json": {
       "model_id": "d7db5faac6624221a4fc48f119aea61d",
       "version_major": 2,
       "version_minor": 0
      },
      "text/plain": [
       "0it [00:00, ?it/s]"
      ]
     },
     "metadata": {},
     "output_type": "display_data"
    },
    {
     "name": "stdout",
     "output_type": "stream",
     "text": [
      "Number of NA coords coords    15554\n",
      "dtype: int64 in validation data\n",
      "Number of validation images with bad coords: 696 out of 4062 images\n"
     ]
    }
   ],
   "source": [
    "import math\n",
    "\n",
    "\n",
    "dog_pose_validation_data_set_with_heatmaps = DogPoseDataSet(\n",
    "    images_dir = \"../data/Images/\", \n",
    "    np_split_file=\"../data/annotations/val_stanford_StanfordExtra_v12.npy\", \n",
    "    annotations_json_file=\"../data/annotations/StanfordExtra_v12.json\")\n",
    "\n",
    "\n",
    "number_of_na_vals_validation = 0\n",
    "\n",
    "number_of_images_with_bad_coords = 0\n",
    "\n",
    "total_images = 0\n",
    "\n",
    "\n",
    "for index, sample in tqdm(enumerate(dog_pose_validation_data_set_with_heatmaps)):\n",
    "    joints = sample['joints']\n",
    "    img_path = sample['img_path']\n",
    "\n",
    "    has_bad_joint = False\n",
    "\n",
    "    coords = []\n",
    "\n",
    "    for joint in joints:\n",
    "        if (not isinstance(joint[0], (int, float, complex))\n",
    "            or not isinstance(joint[1], (int, float, complex))\n",
    "            or not isinstance(joint[2], (int, float, complex)) \n",
    "            or math.isnan(joint[0])\n",
    "            or math.isnan(joint[1])\n",
    "            or math.isnan(joint[2])):\n",
    "            has_bad_joint = True\n",
    "\n",
    "        coords = np.concatenate([coords, joint])\n",
    "\n",
    "    df = pd.DataFrame({\n",
    "        'coords': coords\n",
    "    })\n",
    "\n",
    "    number_of_na_vals_validation = number_of_na_vals_validation + df.isna().sum() \n",
    "\n",
    "    number_of_images_with_bad_coords = number_of_images_with_bad_coords +  (1 if has_bad_joint else 0)\n",
    "\n",
    "    total_images = total_images + 1\n",
    "\n",
    "\n",
    "print(f\"Number of NA coords {number_of_na_vals_validation} in validation data\")\n",
    "print(f\"Number of validation images with bad coords: {number_of_images_with_bad_coords} out of {total_images} images\")"
   ]
  }
 ],
 "metadata": {
  "kernelspec": {
   "display_name": "ece_579_project",
   "language": "python",
   "name": "python3"
  },
  "language_info": {
   "codemirror_mode": {
    "name": "ipython",
    "version": 3
   },
   "file_extension": ".py",
   "mimetype": "text/x-python",
   "name": "python",
   "nbconvert_exporter": "python",
   "pygments_lexer": "ipython3",
   "version": "3.11.8"
  }
 },
 "nbformat": 4,
 "nbformat_minor": 2
}
