{
 "cells": [
  {
   "cell_type": "code",
   "execution_count": 2,
   "metadata": {},
   "outputs": [
    {
     "name": "stdout",
     "output_type": "stream",
     "text": [
      "Using cpu device\n",
      "All Keypoints RMSE 231.79416452824265\n"
     ]
    }
   ],
   "source": [
    "import sys;sys.path.insert(0, '..')\n",
    "from src.RMSE import BatchRMSE\n",
    "import torch\n",
    "import os\n",
    "from src.FCN8MS import FCN8MS\n",
    "import src.core as core\n",
    "import src.guassian as guassian\n",
    "\n",
    "\n",
    "cwd = os.getcwd()\n",
    "FCN8_model_dir = os.path.join(cwd, '..', 'models', 'FCN8MS_FINAL_NO_AUG')\n",
    "\n",
    "run_dir = os.path.join(FCN8_model_dir, 'run')\n",
    "model_dir = os.path.join(FCN8_model_dir, 'model')\n",
    "\n",
    "\n",
    "print(f\"Using {core.TorchDevice} device\")\n",
    "torch.set_default_device(core.TorchDevice)\n",
    "\n",
    "loaded_model = FCN8MS()\n",
    "saved_model_path = model_path = os.path.join(model_dir, f'model_20240407_090921_8')\n",
    "checkpoint = torch.load(saved_model_path, map_location=core.TorchDevice)\n",
    "loaded_model.load_state_dict(checkpoint)\n",
    "loaded_model.eval()\n",
    "\n",
    "rmse = BatchRMSE()\n",
    "\n",
    "predicted_heatmaps = None\n",
    "single_sample = None\n",
    "for i, sample in enumerate(core.TestDataSet):\n",
    "    single_sample = sample\n",
    "    image, heatmaps = sample\n",
    "    image, heatmaps = image.to(core.TorchDevice), heatmaps.to(core.TorchDevice)\n",
    "\n",
    "    ## We need to unsqueeze add the batch dimension to the image [1, 3, 96, 96]\n",
    "    image = image.unsqueeze(0)\n",
    "    # print(\"image.shape\", image.shape)\n",
    "\n",
    "    predicted_heatmaps = loaded_model(image)\n",
    "\n",
    "    pred_heatmaps = predicted_heatmaps.cpu().detach()\n",
    "\n",
    "    ## We need to remove the extra batch dimensions from the prediction [24, 96, 96]\n",
    "    pred_heatmaps = pred_heatmaps.squeeze(0)\n",
    "\n",
    "    # print(\"pred_heatmaps.shape\", pred_heatmaps.shape)\n",
    "\n",
    "    predicted_keypoints = guassian.heatmaps_to_keypoints_CoM(pred_heatmaps)\n",
    "\n",
    "    ground_heatmaps = heatmaps.cpu().detach()\n",
    "\n",
    "    gt_keypoints = guassian.heatmaps_to_keypoints_CoM(ground_heatmaps)\n",
    "\n",
    "    rmse.add_pred_error(gt_keypoints, predicted_keypoints)\n",
    "\n",
    "\n",
    "print(f\"All Keypoints RMSE {rmse.get_all_keypoints_RMSE()}\")\n",
    "\n"
   ]
  },
  {
   "cell_type": "code",
   "execution_count": 3,
   "metadata": {},
   "outputs": [
    {
     "name": "stdout",
     "output_type": "stream",
     "text": [
      "All Keypoints RMSE 10.489704760224335\n",
      "All Keypoints RMSE 14.477959673647103\n",
      "All Keypoints RMSE 8.86335385250195\n",
      "All Keypoints RMSE 883.2329535105113\n",
      "All Keypoints RMSE 121.14547018927252\n",
      "All Keypoints RMSE 277.7420627031818\n",
      "All Keypoints RMSE 16.109275215697288\n",
      "All Keypoints RMSE 8.569732539612895\n",
      "All Keypoints RMSE 12.502561044793916\n",
      "All Keypoints RMSE 265.90812058592144\n",
      "All Keypoints RMSE 316.7949238309719\n",
      "All Keypoints RMSE 664.6396996769205\n",
      "All Keypoints RMSE 13.571471654026412\n",
      "All Keypoints RMSE 25.317723794282127\n",
      "All Keypoints RMSE 39.65247157146489\n",
      "All Keypoints RMSE 8.70307187611864\n",
      "All Keypoints RMSE 8.629603572845658\n",
      "All Keypoints RMSE 7.874319153171715\n",
      "All Keypoints RMSE 19.53646916653954\n",
      "All Keypoints RMSE 14.38327172895085\n",
      "No RMSE for 20th keypoint\n",
      "No RMSE for 21th keypoint\n",
      "No RMSE for 22th keypoint\n",
      "No RMSE for 23th keypoint\n"
     ]
    }
   ],
   "source": [
    "for i in range(24):\n",
    "    try:\n",
    "        print(f\"All Keypoints RMSE {rmse.get_keypoint_RMSE(i)}\")\n",
    "    except:\n",
    "        print(f\"No RMSE for {i}th keypoint\")"
   ]
  }
 ],
 "metadata": {
  "kernelspec": {
   "display_name": "ece_579_project",
   "language": "python",
   "name": "python3"
  },
  "language_info": {
   "codemirror_mode": {
    "name": "ipython",
    "version": 3
   },
   "file_extension": ".py",
   "mimetype": "text/x-python",
   "name": "python",
   "nbconvert_exporter": "python",
   "pygments_lexer": "ipython3",
   "version": "3.11.0"
  }
 },
 "nbformat": 4,
 "nbformat_minor": 2
}
